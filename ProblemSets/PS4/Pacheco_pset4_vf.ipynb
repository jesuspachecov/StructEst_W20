{
 "cells": [
  {
   "cell_type": "markdown",
   "metadata": {},
   "source": [
    "# MACS 40200: Problem Set #4\n",
    "\n",
    "#### By: Jesús Pacheco"
   ]
  },
  {
   "cell_type": "code",
   "execution_count": 158,
   "metadata": {},
   "outputs": [
    {
     "name": "stdout",
     "output_type": "stream",
     "text": [
      "Once deleted, variables cannot be recovered. Proceed (y/[n])? y\n"
     ]
    }
   ],
   "source": [
    "%reset\n",
    "import numpy as np\n",
    "import scipy.stats as sts\n",
    "import requests\n",
    "import scipy.optimize as opt\n",
    "import numpy.linalg as lin"
   ]
  },
  {
   "cell_type": "markdown",
   "metadata": {},
   "source": [
    "Downloading the data:"
   ]
  },
  {
   "cell_type": "code",
   "execution_count": 159,
   "metadata": {},
   "outputs": [],
   "source": [
    "#Read the txt file\n",
    "url_macro = ('https://raw.githubusercontent.com/jesuspachecov/StructEst_W20/' +\n",
    "       'master/ProblemSets/PS4/data/NewMacroSeries.txt')\n",
    "response = requests.get(url_macro,allow_redirects=True)\n",
    "\n",
    "open('MacroSeries.txt', 'wb').write(response.content)\n",
    "macroseries = np.loadtxt(\"MacroSeries.txt\",\n",
    "  # dtype={'names': ('ct', 'kt', 'wt', 'rt', 'yt'),\n",
    "   #       'formats': (np.float, np.float, np.float, np.float)},\n",
    "   delimiter=',', skiprows=0)\n",
    "#macroseries[1:10,]"
   ]
  },
  {
   "cell_type": "markdown",
   "metadata": {},
   "source": [
    "Getting a seeded draw of uniform values that will be used in the simulation:"
   ]
  },
  {
   "cell_type": "code",
   "execution_count": 163,
   "metadata": {},
   "outputs": [
    {
     "data": {
      "text/plain": [
       "(100, 1000)"
      ]
     },
     "execution_count": 163,
     "metadata": {},
     "output_type": "execute_result"
    }
   ],
   "source": [
    "N = 100\n",
    "S = 1000\n",
    "np.random.seed(123)\n",
    "unif_vals_mat = sts.uniform.rvs(0, 1, size=(N, S))\n",
    "unif_vals_mat.shape"
   ]
  },
  {
   "cell_type": "markdown",
   "metadata": {},
   "source": [
    "### a) Simulated Method of Moments estimation of macro model"
   ]
  },
  {
   "cell_type": "code",
   "execution_count": 164,
   "metadata": {},
   "outputs": [],
   "source": [
    "def simulated_data(unif_vals, alpha, mu, rho, sigma, beta=.99):\n",
    "    '''\n",
    "    This function simulates the data given the parameters, with the random draw of uniform values. \n",
    "    The output are the simulated ct, yt and kt. \n",
    "    '''\n",
    "    sim_err = sts.norm.ppf(unif_vals, loc=0, scale=sigma)\n",
    "    \n",
    "    #from eq (5) -> simulate zt\n",
    "    sim_zt = np.zeros_like(sim_err, dtype=np.float128)\n",
    "    sim_zt[0,] = mu + sim_err[0,]\n",
    "    for i in range(1,100):\n",
    "        sim_zt[i,] = rho * sim_zt[i-1,] + (1-rho)*mu + sim_err[i,]\n",
    "    \n",
    "    #from eq (7) -> simulate kt+1\n",
    "    sim_ktp1 = np.zeros_like(sim_err, dtype=np.float128)\n",
    "    sim_ktp1[0,] = alpha*beta*(np.exp(sim_zt[0,])) * (np.mean(kt))**alpha\n",
    "    for i in range(1,100):\n",
    "        sim_ktp1[i,] = alpha*beta*(np.exp(sim_zt[0,])) * (sim_ktp1[i-1,])**alpha\n",
    "    sim_kt = np.zeros_like(sim_err)\n",
    "    sim_kt = np.vstack((np.repeat(np.mean(kt),unif_vals.shape[1]),sim_ktp1[:-1]))\n",
    "    \n",
    "    #from eq (3) -> simulate wt\n",
    "    sim_wt = np.zeros_like(sim_err, dtype=np.float128)\n",
    "    sim_wt =  (sim_kt**alpha) * (1-alpha) * np.exp(sim_zt)\n",
    "    \n",
    "    #from eq (4) -> simulate rt\n",
    "    sim_rt = alpha * np.exp(sim_zt) * sim_kt**(alpha-1)\n",
    "    \n",
    "    #from eq (2) -> simulate ct\n",
    "    sim_ct = sim_wt + (sim_rt * sim_kt) - sim_ktp1\n",
    "    sim_ct_1 = np.vstack((np.repeat(np.mean(sim_ct[0]),unif_vals.shape[1]), sim_ct[:-1]))\n",
    "    \n",
    "    #from eq (6) -> simulate yt\n",
    "    sim_yt = np.exp(sim_zt) * sim_kt**alpha\n",
    "\n",
    "    return sim_ct, sim_ct_1, sim_kt, sim_yt"
   ]
  },
  {
   "cell_type": "markdown",
   "metadata": {},
   "source": [
    "I tried doing the functions separately but I couldn't get my criterion function to converge, so I'll try with all the functions in the criterion function as: "
   ]
  },
  {
   "cell_type": "code",
   "execution_count": 165,
   "metadata": {},
   "outputs": [],
   "source": [
    "def criterion (params, *args):\n",
    "    alpha, mu, rho, sigma = params\n",
    "    unif_vals, ct, kt, yt, ct_1, W_I = args\n",
    "    \n",
    "    #SIMULATED DATA\n",
    "    sim_err = sts.norm.ppf(unif_vals, loc=0, scale=sigma)\n",
    "    #from eq (5) -> simulate zt\n",
    "    sim_zt = np.zeros_like(sim_err, dtype=np.float128)\n",
    "    sim_zt[0,] = mu + sim_err[0,]\n",
    "    for i in range(1,100):\n",
    "        sim_zt[i,] = rho * sim_zt[i-1,] + (1-rho)*mu + sim_err[i,]\n",
    "    #from eq (7) -> simulate kt+1\n",
    "    sim_ktp1 = np.zeros_like(sim_err, dtype=np.float128)\n",
    "    sim_ktp1[0,] = alpha*beta*(np.exp(sim_zt[0,])) * (np.mean(kt))**alpha\n",
    "    for i in range(1,100):\n",
    "        sim_ktp1[i,] = alpha*beta*(np.exp(sim_zt[0,])) * (sim_ktp1[i-1,])**alpha\n",
    "    sim_kt = np.zeros_like(sim_err)\n",
    "    sim_kt = np.vstack((np.repeat(np.mean(kt),unif_vals.shape[1]),sim_ktp1[:-1]))\n",
    "    #from eq (3) -> simulate wt\n",
    "    sim_wt = np.zeros_like(sim_err, dtype=np.float128)\n",
    "    sim_wt =  (sim_kt**alpha) * (1-alpha) * np.exp(sim_zt)\n",
    "    #from eq (4) -> simulate rt\n",
    "    sim_rt = alpha * np.exp(sim_zt) * sim_kt**(alpha-1)\n",
    "    #from eq (2) -> simulate ct\n",
    "    sim_ct = sim_wt + (sim_rt * sim_kt) - sim_ktp1\n",
    "    sim_ct_1 = np.vstack((np.repeat(np.mean(sim_ct[0]),unif_vals.shape[1]), sim_ct[:-1]))\n",
    "    #from eq (6) -> simulate yt\n",
    "    sim_yt = np.exp(sim_zt) * sim_kt**alpha\n",
    "    \n",
    "    #DATA MOMENTS\n",
    "    md1 = ct.mean()\n",
    "    md2 = kt.mean() \n",
    "    md3 = (ct/yt).mean() \n",
    "    md4 = yt.var()\n",
    "    md5 = np.corrcoef(ct, ct_1)[0,1]\n",
    "    md6 = np.corrcoef(ct, kt)[0,1]\n",
    "    moms_data = np.array([md1, md2, md3, \n",
    "                          md4, md5, md6])\n",
    "\n",
    "    #SIMULATED DATA MOMENTS\n",
    "    ms1 = sim_ct.mean(axis=0)\n",
    "    ms2 = sim_kt.mean(axis=0)\n",
    "    ms3 = (sim_ct/sim_yt).mean(axis=0)\n",
    "    ms4 = sim_yt.var(axis=0) \n",
    "    ms5 = np.corrcoef(sim_ct, sim_ct_1)[0,1]\n",
    "    ms6 = np.corrcoef(sim_ct, sim_kt)[0,1]\n",
    "    moms_model = np.array([np.mean(ms1), np.mean(ms2), np.mean(ms3),\n",
    "                          np.mean(ms4), np.mean(ms5), np.mean(ms6)])\n",
    "    \n",
    "    #ERROR VECTOR\n",
    "    err =  moms_model - moms_data\n",
    "    \n",
    "    #CRITICAL VALUES\n",
    "    crit_val = err @ W_I  @ err.T\n",
    "    \n",
    "    return crit_val"
   ]
  },
  {
   "cell_type": "code",
   "execution_count": 166,
   "metadata": {},
   "outputs": [
    {
     "name": "stdout",
     "output_type": "stream",
     "text": [
      "Alpha: 0.4787835146978975\n",
      "Mu: 8.413846315160335\n",
      "Rho: -0.027761949292597458\n",
      "Sigma: 0.5978985639339959\n",
      "Minimized criterion function:  59325913966244.597416\n",
      "VCV:  [[ 0.03598809 -0.46710382 -0.57311065 -0.08615462]\n",
      " [-0.46710382  9.01551436 11.35421971 -0.42258974]\n",
      " [-0.57311065 11.35421971 17.12377434 -0.62464766]\n",
      " [-0.08615462 -0.42258974 -0.62464766  1.01105959]]\n"
     ]
    }
   ],
   "source": [
    "#MINIMIZATION\n",
    "#Initial guesses and args\n",
    "params_init= np.array([0.5, 8.92559606, 0.680047, .6]) #From the initial guesses of previous psets\n",
    "\n",
    "ct = macroseries[:,0]\n",
    "kt = macroseries[:,1]\n",
    "yt = macroseries[:,4]\n",
    "ct_1 = np.append(ct[0], ct[:-1])\n",
    "beta = .99\n",
    "\n",
    "W_I = np.eye(6)\n",
    "\n",
    "smm_args = (unif_vals_mat, ct, kt, yt, ct_1, W_I)\n",
    "\n",
    "#MINIMIZATION\n",
    "results_macro = opt.minimize(criterion, params_init, args=(smm_args), method='L-BFGS-B',\n",
    "                             bounds = ((0.01, 0.9), (None, None), (None, None), (.01, 1.1)))\n",
    "                             #bounds = ((0.11, 0.99), (5, 14), (-.99, .99), (.01, 1.1)), tol=1e-14)\n",
    "                             #I played with the boundaries, because with some of them it wasn't converging\n",
    "alpha_smm, mu_smm, rho_smm, sigma_smm = results_macro.x\n",
    "params_smm = np.array([alpha_smm, mu_smm, rho_smm, sigma_smm ])\n",
    "print (\"Alpha:\", alpha_smm)\n",
    "print (\"Mu:\", mu_smm)\n",
    "print (\"Rho:\", rho_smm)\n",
    "print (\"Sigma:\", sigma_smm)\n",
    "print (\"Minimized criterion function: \", criterion(params_smm, unif_vals_mat, ct, kt, yt, ct_1, W_I))\n",
    "print (\"VCV: \", results_macro.hess_inv.matmat(np.eye(4)))"
   ]
  },
  {
   "cell_type": "markdown",
   "metadata": {},
   "source": [
    "### Part b) Two-step weighted matrix"
   ]
  },
  {
   "cell_type": "code",
   "execution_count": 168,
   "metadata": {},
   "outputs": [],
   "source": [
    "R = 6\n",
    "S = unif_vals_mat.shape[1]\n",
    "Err_mat = np.zeros((R, S))\n",
    "\n",
    "#DATA MOMENTS\n",
    "md1 = ct.mean()\n",
    "md2 = kt.mean() \n",
    "md3 = (ct/yt).mean() \n",
    "md4 = yt.var()\n",
    "md5 = np.corrcoef(ct, ct_1)[0,1]\n",
    "md6 = np.corrcoef(ct, kt)[0,1]\n",
    "\n",
    "#SIMULATED DATA MOMENTS\n",
    "sim_ct, sim_ct_1, sim_kt, sim_yt = simulated_data(unif_vals_mat, alpha_smm, mu_smm, rho_smm, sigma_smm, beta=.99)\n",
    "ms1 = sim_ct.mean(axis=0)\n",
    "ms2 = sim_kt.mean(axis=0)\n",
    "ms3 = (sim_ct/sim_yt).mean(axis=0)\n",
    "ms4 = sim_yt.var(axis=0) \n",
    "ms5 = np.corrcoef(sim_ct, sim_ct_1)[0,1]\n",
    "ms6 = np.corrcoef(sim_ct, sim_kt)[0,1]\n",
    "\n",
    "Err_mat[0, :] = md1 - ms1\n",
    "Err_mat[1, :] = md2 - ms2\n",
    "Err_mat[2, :] = md3 - ms3\n",
    "Err_mat[3, :] = md4 - ms4\n",
    "Err_mat[4, :] = md5 - ms5\n",
    "Err_mat[5, :] = md6 - ms6"
   ]
  },
  {
   "cell_type": "code",
   "execution_count": 193,
   "metadata": {},
   "outputs": [
    {
     "data": {
      "text/plain": [
       "array([[ 1.46700265e-13,  1.67973264e-13,  1.31357393e-06,\n",
       "        -4.10295293e-21, -4.25790671e-07, -7.77531125e-07],\n",
       "       [ 1.67973264e-13,  2.22395353e-13,  1.77086458e-06,\n",
       "        -6.86910649e-21, -5.20917058e-07, -9.49202090e-07],\n",
       "       [ 1.31357393e-06,  1.77086458e-06,  1.66071434e+01,\n",
       "        -3.18182181e-14, -4.25258420e+00, -7.80618692e+00],\n",
       "       [-4.10295293e-21, -6.86910649e-21, -3.18182181e-14,\n",
       "         5.70252992e-28,  1.29251918e-14,  2.28564216e-14],\n",
       "       [-3.40892416e-07, -4.14330104e-07, -3.34952264e+00,\n",
       "         1.04873015e-14, -1.39184407e+13,  1.39184180e+13],\n",
       "       [-8.62388123e-07, -1.05557763e-06, -8.70656932e+00,\n",
       "         2.52896280e-14,  1.39184180e+13, -1.39183954e+13]])"
      ]
     },
     "execution_count": 193,
     "metadata": {},
     "output_type": "execute_result"
    }
   ],
   "source": [
    "VCV2 = (1 / macroseries.shape[0]) * (Err_mat @ Err_mat.T)\n",
    "W_2s = lin.inv(VCV2)\n",
    "W_2s"
   ]
  },
  {
   "cell_type": "markdown",
   "metadata": {},
   "source": [
    "Now we do the minimization again with this two-step W"
   ]
  },
  {
   "cell_type": "code",
   "execution_count": 208,
   "metadata": {},
   "outputs": [
    {
     "name": "stdout",
     "output_type": "stream",
     "text": [
      "Alpha: 0.5278091969827978\n",
      "Mu: 7.926920535654525\n",
      "Rho: 0.6974547786527608\n",
      "Sigma: 0.43178986032163147\n",
      "Minimized criterion function:  -18.696468993594862695\n"
     ]
    }
   ],
   "source": [
    "smm_args2 = (unif_vals_mat, ct, kt, yt, ct_1, W_2s)\n",
    "\n",
    "#MINIMIZATION\n",
    "results_macro2 = opt.minimize(criterion, params_init, args=(smm_args2), method='L-BFGS-B',\n",
    "                             bounds = ((0.1, 0.9), (None, None), (-.99, None), (.01, 1.1)))\n",
    "                             #bounds = ((0.11, 0.99), (5, 14), (-.99, .99), (.01, 1.1)), tol=1e-14)\n",
    "                             #Again, converge only reached with certain boundaries only.\n",
    "alpha_smm2, mu_smm2, rho_smm2, sigma_smm2 = results_macro2.x\n",
    "params_smm2 = np.array([alpha_smm2, mu_smm2, rho_smm2, sigma_smm2 ])\n",
    "print (\"Alpha:\", alpha_smm2)\n",
    "print (\"Mu:\", mu_smm2)\n",
    "print (\"Rho:\", rho_smm2)\n",
    "print (\"Sigma:\", sigma_smm2)\n",
    "print (\"Minimized criterion function: \", criterion(params_smm2, unif_vals_mat, ct, kt, yt, ct_1, W_2s))"
   ]
  },
  {
   "cell_type": "markdown",
   "metadata": {},
   "source": [
    "The estimation did change quite a bit, specially but rho that is now positive."
   ]
  }
 ],
 "metadata": {
  "kernelspec": {
   "display_name": "Python 3",
   "language": "python",
   "name": "python3"
  },
  "language_info": {
   "codemirror_mode": {
    "name": "ipython",
    "version": 3
   },
   "file_extension": ".py",
   "mimetype": "text/x-python",
   "name": "python",
   "nbconvert_exporter": "python",
   "pygments_lexer": "ipython3",
   "version": "3.7.4"
  }
 },
 "nbformat": 4,
 "nbformat_minor": 2
}
