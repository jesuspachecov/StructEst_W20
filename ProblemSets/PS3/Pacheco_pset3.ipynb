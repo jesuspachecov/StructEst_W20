{
 "cells": [
  {
   "cell_type": "markdown",
   "metadata": {},
   "source": [
    "# MACS 40300: Problem Set #3\n",
    "### By: Jesús Pacheco Vera"
   ]
  },
  {
   "cell_type": "markdown",
   "metadata": {},
   "source": [
    "## 1. Matching the U.S. income distribution by GMM"
   ]
  },
  {
   "cell_type": "code",
   "execution_count": 1221,
   "metadata": {},
   "outputs": [
    {
     "name": "stdout",
     "output_type": "stream",
     "text": [
      "Once deleted, variables cannot be recovered. Proceed (y/[n])? y\n"
     ]
    }
   ],
   "source": [
    "#%reset\n",
    "import numpy as np\n",
    "import scipy.stats as sts\n",
    "import requests\n",
    "import matplotlib.pyplot as plt\n",
    "import matplotlib.ticker as ticker\n",
    "import scipy.optimize as opt\n",
    "import numpy.linalg as lin"
   ]
  },
  {
   "cell_type": "code",
   "execution_count": 1222,
   "metadata": {},
   "outputs": [],
   "source": [
    "#Import the data\n",
    "url = ('https://raw.githubusercontent.com/jesuspachecov/StructEst_W20/' +\n",
    "       'master/ProblemSets/PS3/data/hh_inc_synth.txt')\n",
    "resp = requests.get(url,allow_redirects=True)\n",
    "\n",
    "open('hh_inc_synth.txt', 'wb').write(resp.content)\n",
    "hhincome = np.loadtxt(\"hh_inc_synth.txt\")\n",
    "#hhincome"
   ]
  },
  {
   "cell_type": "markdown",
   "metadata": {},
   "source": [
    "### Part a)"
   ]
  },
  {
   "cell_type": "code",
   "execution_count": 1223,
   "metadata": {},
   "outputs": [],
   "source": [
    "#Create the brackets\n",
    "brackets=np.append(np.arange(0, 200000, 5000).tolist(), [200000, 250000, 350000])\n",
    "\n",
    "#Compute the weights\n",
    "N = len(hhincome)\n",
    "wg_200k = 1/(N*5000)\n",
    "wg_250k = 1/(N*50000)\n",
    "wg_250plus = 1/(N*100000)\n",
    "first_bracket = (hhincome<200000)\n",
    "second_bracket = (hhincome>=200000)*(hhincome<250000)\n",
    "third_bracket = (hhincome>=250000)\n",
    "\n",
    "weights = np.array([1/N] * N)\n",
    "weights_graph = first_bracket*wg_200k + second_bracket*wg_250k + third_bracket*wg_250plus\n",
    "#weights[weights < 1e-10] = 1e-10   #In case weights too close to zero cause conflicts on calculations\n",
    "count, bins = np.histogram(hhincome, bins=brackets, weights=weights)"
   ]
  },
  {
   "cell_type": "markdown",
   "metadata": {},
   "source": [
    "### Part b)"
   ]
  },
  {
   "cell_type": "code",
   "execution_count": 1224,
   "metadata": {},
   "outputs": [
    {
     "data": {
      "image/png": "[encoded data removed]",
      "text/plain": [
       "<Figure size 432x288 with 1 Axes>"
      ]
     },
     "metadata": {
      "needs_background": "light"
     },
     "output_type": "display_data"
    }
   ],
   "source": [
    "fig, ax = plt.subplots()\n",
    "n, bins, patches = plt.hist(hhincome, bins=brackets, edgecolor='black', density = False, weights=weights_graph)\n",
    "#ticker, change scale of x-axis\n",
    "ax.xaxis.set_major_formatter(ticker.FuncFormatter(\n",
    "    lambda x, pos: '%.0f' % (x * 1e-3)))\n",
    "ax.set_title('Figure 1: Histogram of household income.')\n",
    "_=ax.set_xlabel('Household income($000)')"
   ]
  },
  {
   "cell_type": "markdown",
   "metadata": {},
   "source": [
    "I think this is the correct graph (a little different from the one in the pset3 pdf) because this are sums up to one. "
   ]
  },
  {
   "cell_type": "code",
   "execution_count": 1225,
   "metadata": {},
   "outputs": [
    {
     "data": {
      "text/plain": [
       "0.9999999999984865"
      ]
     },
     "execution_count": 1225,
     "metadata": {},
     "output_type": "execute_result"
    }
   ],
   "source": [
    "n[0:-2].sum()*5000+(n[40]*50000)+(n[41]*100000)"
   ]
  },
  {
   "cell_type": "markdown",
   "metadata": {},
   "source": [
    "### Part c) Log-normal distribution"
   ]
  },
  {
   "cell_type": "code",
   "execution_count": 1226,
   "metadata": {},
   "outputs": [],
   "source": [
    "import scipy.integrate as integr\n",
    "\n",
    "def model_moments1(mu, sigma):\n",
    "    lower_bounds=np.append(np.arange(1e-10, 200000, 5000).tolist(), [200000, 250000])\n",
    "    upper_bounds=np.append(np.arange(5000, 200000, 5000).tolist(), [200000, 250000, 350000])\n",
    "    bounds = np.column_stack((lower_bounds, upper_bounds))\n",
    "    model_moms1 = np.zeros(42)\n",
    "\n",
    "    for i in range(42):\n",
    "        model_moms1[i] = sts.norm.cdf(np.log(bounds[i,1]), loc=mu, scale=sigma) -sts.norm.cdf(np.log(bounds[i,0]), loc=mu, scale=sigma)                                                               \n",
    "        #The model moments are the area within each bracket (cdf in upper bound minus cdf in lower bound)\n",
    "        \n",
    "    model_moms1[40] = model_moms1[40]/10\n",
    "    model_moms1[41] = model_moms1[41]/20\n",
    "    return model_moms1"
   ]
  },
  {
   "cell_type": "code",
   "execution_count": 1227,
   "metadata": {},
   "outputs": [],
   "source": [
    "def data_moments(xvals, weights_f = weights): \n",
    "    data_moms, _ = np.histogram(xvals, bins=brackets, weights=weights_f)\n",
    "    return data_moms"
   ]
  },
  {
   "cell_type": "code",
   "execution_count": 1228,
   "metadata": {},
   "outputs": [],
   "source": [
    "def errors(xvals, mu, sigma, simple=True):\n",
    "    data_moms = np.array([data_moments(xvals)])\n",
    "    model_moms1 = np.array([model_moments1(mu, sigma)])\n",
    "     \n",
    "    if simple:\n",
    "        err_vec1 = model_moms1 - data_moms\n",
    "    else:\n",
    "        err_vec1 = (model_moms1 - data_moms) / data_moms\n",
    "    return err_vec1"
   ]
  },
  {
   "cell_type": "code",
   "execution_count": 1229,
   "metadata": {},
   "outputs": [],
   "source": [
    "#Criterion\n",
    "def criterion(params, *args): \n",
    "    mu, sigma = params\n",
    "    xvals, W = args\n",
    "    err1 = errors(xvals, mu, sigma)\n",
    "    crit_val1 = err1 @ W @ err1.T\n",
    "    return crit_val1"
   ]
  },
  {
   "cell_type": "markdown",
   "metadata": {},
   "source": [
    "Setting the initial guesses of mu and sigma as the log of the average and standard deviation respectively. "
   ]
  },
  {
   "cell_type": "code",
   "execution_count": 1231,
   "metadata": {},
   "outputs": [
    {
     "name": "stdout",
     "output_type": "stream",
     "text": [
      "mu_GMM= 10.890873136559456  sig_GMM= 1.0512036307452186\n",
      "The minimized criterion function [[4.49610181e-05]]\n"
     ]
    }
   ],
   "source": [
    "#MINIMIZATION\n",
    "#Initial guesses\n",
    "mu_init = np.log(np.mean(hhincome))\n",
    "sigma_init = np.log(np.std(hhincome))\n",
    "params_init1 = np.array([mu_init, sigma_init])\n",
    "\n",
    "#W_0 = np.eye(42)\n",
    "W_0 = np.diagflat(data_moments(hhincome))\n",
    "\n",
    "gmm_args = (hhincome, W_0)\n",
    "results = opt.minimize(criterion, params_init1, args=(gmm_args), method='L-BFGS-B', tol=1e-14)\n",
    "mu_GMM, sig_GMM = results.x\n",
    "print('mu_GMM=', mu_GMM, ' sig_GMM=', sig_GMM)\n",
    "#results\n",
    "print(\"The minimized criterion function\", errors(hhincome, mu_GMM, sig_GMM) @ W_0 @ errors(hhincome, mu_GMM, sig_GMM).T)"
   ]
  },
  {
   "cell_type": "code",
   "execution_count": 1232,
   "metadata": {},
   "outputs": [
    {
     "data": {
      "image/png": "[encoded data removed]",
      "text/plain": [
       "<Figure size 432x288 with 1 Axes>"
      ]
     },
     "metadata": {
      "needs_background": "light"
     },
     "output_type": "display_data"
    }
   ],
   "source": [
    "def lognorm_pdf (xvals, mu, sigma):\n",
    "    vals = (1/(xvals * sigma * np.sqrt(2 * np.pi)) * np.exp( - (np.log(xvals) - mu)**2 / (2 * sigma**2)))\n",
    "    return vals\n",
    "\n",
    "fig, ax = plt.subplots()\n",
    "n, bins, patches = plt.hist(hhincome, bins=brackets, edgecolor='black', density = False, weights=weights_graph)\n",
    "\n",
    "ax.set_title('Figure 1: Histogram of household income.')\n",
    "ax.set_xlabel('Household income ($000)')\n",
    "ax.xaxis.set_major_formatter(ticker.FuncFormatter(\n",
    "    lambda x, pos: '%.0f' % (x * 1e-3)))\n",
    "dist_pts = np.linspace(1, 3500000, 1000)\n",
    "\n",
    "plt.plot(dist_pts, lognorm_pdf(dist_pts,mu_GMM, sig_GMM), linewidth=2, color='r', label='Log-normal distribution using GMM')\n",
    "plt.legend(loc='upper right')\n",
    "_=plt.xlim([0, 350000])"
   ]
  },
  {
   "cell_type": "markdown",
   "metadata": {},
   "source": [
    "### Part d) Gamma distribution"
   ]
  },
  {
   "cell_type": "code",
   "execution_count": 1233,
   "metadata": {},
   "outputs": [],
   "source": [
    "import math\n",
    "import scipy.integrate as integr\n",
    "\n",
    "def model_moments2(alpha, beta):\n",
    "    lower_bounds=np.append(np.arange(1e-10, 200000, 5000).tolist(), [200000, 250000])\n",
    "    upper_bounds=np.append(np.arange(5000, 200000, 5000).tolist(), [200000, 250000, 350000])\n",
    "    bounds = np.column_stack((lower_bounds, upper_bounds))\n",
    "    model_moms = np.zeros(42)\n",
    "    \n",
    "    gamma_pdf = lambda x: (1 / ((beta ** alpha) *  math.gamma(alpha))) * (x ** (alpha - 1)) * (np.exp(-(x/beta)))\n",
    "    \n",
    "    for i in range(42):\n",
    "        (model_moms[i], _) = integr.quad(gamma_pdf, bounds[i,0], bounds[i,1])\n",
    "    model_moms[40] = model_moms[40]/10\n",
    "    model_moms[41] = model_moms[41]/20\n",
    "    return model_moms"
   ]
  },
  {
   "cell_type": "code",
   "execution_count": 1234,
   "metadata": {},
   "outputs": [],
   "source": [
    "def err_vec2(xvals, alpha, beta, simple=False):\n",
    "    data_moms = np.array([data_moments(xvals)])\n",
    "    model_moms = np.array([model_moments2(alpha, beta)])\n",
    "    if simple:\n",
    "        err_vec2 = model_moms - data_moms\n",
    "    else:\n",
    "        err_vec2 = (model_moms - data_moms) / data_moms\n",
    "    \n",
    "    return err_vec2"
   ]
  },
  {
   "cell_type": "code",
   "execution_count": 1235,
   "metadata": {},
   "outputs": [],
   "source": [
    "def criterion2(params, *args):\n",
    "    alpha, beta = params\n",
    "    xvals, W = args\n",
    "    err2 = err_vec2(xvals, alpha, beta, simple=False)\n",
    "    crit_val2 = err2 @ W @ err2.T\n",
    "    \n",
    "    return crit_val2"
   ]
  },
  {
   "cell_type": "code",
   "execution_count": 1236,
   "metadata": {},
   "outputs": [
    {
     "name": "stdout",
     "output_type": "stream",
     "text": [
      "Alpha GMM:  1.4058448540932567\n",
      "Beta GMM:  45619.33610600618\n",
      "The minimized criterion function [[0.04376397]]\n"
     ]
    }
   ],
   "source": [
    "alpha_init = 3 \n",
    "beta_init = 20000\n",
    "params_init2 = np.array([alpha_init, beta_init])\n",
    "W0 = np.diagflat(data_moments(hhincome))\n",
    "#W0 = np.eye(42)\n",
    "gmm_args2 = (hhincome, W0)\n",
    "results_ga = opt.minimize(criterion2, params_init2, args=(gmm_args2), method='L-BFGS-B')\n",
    "alpha_gmm, beta_gmm = results_ga.x\n",
    "print(\"Alpha GMM: \", alpha_gmm)\n",
    "print(\"Beta GMM: \", beta_gmm)\n",
    "print(\"The minimized criterion function\", err_vec2(hhincome, alpha_gmm, beta_gmm) @ W0 @ err_vec2(hhincome, alpha_gmm, beta_gmm).T)\n",
    "#results_ga"
   ]
  },
  {
   "cell_type": "markdown",
   "metadata": {},
   "source": [
    "Here's the histogram with the GMM estimated gamma distribution: "
   ]
  },
  {
   "cell_type": "code",
   "execution_count": 1239,
   "metadata": {},
   "outputs": [
    {
     "data": {
      "image/png": "[encoded data removed]",
      "text/plain": [
       "<Figure size 432x288 with 1 Axes>"
      ]
     },
     "metadata": {
      "needs_background": "light"
     },
     "output_type": "display_data"
    }
   ],
   "source": [
    "fig, ax = plt.subplots()\n",
    "n, bins, patches = plt.hist(hhincome, bins=brackets, edgecolor='black', density = False, weights=weights_graph)\n",
    "ax.set_title('Figure 1: Histogram of household income.')\n",
    "ax.set_xlabel('Household income ($000)')\n",
    "\n",
    "dist_pts = np.linspace(1, 350000, 500)\n",
    "def gamma_pdf(xvals, alpha, beta): \n",
    "    pdf_vals = (1 / ((beta ** alpha) *  math.gamma(alpha))) * (xvals ** (alpha - 1)) * (np.exp(-(xvals/beta)))\n",
    "    return pdf_vals\n",
    "\n",
    "plt.plot(dist_pts, gamma_pdf(dist_pts, alpha_gmm, beta_gmm),\n",
    "         linewidth=2, color='g', label='GA distribution using GMM')\n",
    "ax.xaxis.set_major_formatter(ticker.FuncFormatter(\n",
    "    lambda x, pos: '%.0f' % (x * 1e-3)))\n",
    "plt.legend(loc='upper right')\n",
    "_= plt.xlim([0, 350000])"
   ]
  },
  {
   "cell_type": "markdown",
   "metadata": {},
   "source": [
    "### Part e) Comparing both estimations"
   ]
  },
  {
   "cell_type": "code",
   "execution_count": 1240,
   "metadata": {},
   "outputs": [
    {
     "data": {
      "image/png": "[encoded data removed]",
      "text/plain": [
       "<Figure size 432x288 with 1 Axes>"
      ]
     },
     "metadata": {
      "needs_background": "light"
     },
     "output_type": "display_data"
    }
   ],
   "source": [
    "fig, ax = plt.subplots()\n",
    "n, bins, patches = plt.hist(hhincome, bins=brackets, edgecolor='black', density = False, weights=weights_graph)\n",
    "ax.set_title('Figure 1: Histogram of household income.')\n",
    "ax.set_xlabel('Household income ($000)')\n",
    "\n",
    "plt.plot(dist_pts, lognorm_pdf(dist_pts,mu_GMM, sig_GMM), \n",
    "         linewidth=2, color='r', label='Log-normal distribution')\n",
    "\n",
    "plt.plot(dist_pts, gamma_pdf(dist_pts, alpha_gmm, beta_gmm),\n",
    "         linewidth=2, color='g', label='GA distribution')\n",
    "\n",
    "ax.xaxis.set_major_formatter(ticker.FuncFormatter(\n",
    "    lambda x, pos: '%.0f' % (x * 1e-3)))\n",
    "plt.legend(loc='upper right')\n",
    "_= plt.xlim([0, 350000])"
   ]
  },
  {
   "cell_type": "markdown",
   "metadata": {},
   "source": [
    "Both distributions fit the income data fairly well visually. It seems to me like the green line (GA) is estimating a bit better (the line seems closer to the edges of the bins) in the middle part of the distribution. The lower part of the distributions (the mode) is estimated somewhat similarly. The upper part of the distribution is definately better estimated by the gamma distribution."
   ]
  },
  {
   "cell_type": "markdown",
   "metadata": {},
   "source": [
    "### Part f) Two-step weighting matrix"
   ]
  },
  {
   "cell_type": "markdown",
   "metadata": {},
   "source": [
    "The chunk of code that creates the error matrix takes some time, so I didn't do a function for it. It iterates over  the R moments and the N number of observations in the data to create a RxN error matrix. "
   ]
  },
  {
   "cell_type": "code",
   "execution_count": 1241,
   "metadata": {},
   "outputs": [
    {
     "name": "stdout",
     "output_type": "stream",
     "text": [
      "[[-0.03362538 -0.03362538 -0.03362538 ... -0.03362538 -0.03362538\n",
      "  -0.03362538]\n",
      " [-0.05005342 -0.05005342 -0.05005342 ... -0.05005342 -0.05004516\n",
      "  -0.05005342]\n",
      " [-0.05541149 -0.05541149 -0.05541149 ... -0.05541149 -0.05541149\n",
      "  -0.05541149]\n",
      " ...\n",
      " [-0.00295246 -0.00295246 -0.00295246 ... -0.00295246 -0.00295246\n",
      "  -0.00295246]\n",
      " [-0.00177403 -0.00177403 -0.00177403 ... -0.00177403 -0.00177403\n",
      "  -0.00177403]\n",
      " [-0.00043746 -0.00043746 -0.00043746 ... -0.00043746 -0.00043746\n",
      "  -0.00043746]]\n"
     ]
    }
   ],
   "source": [
    "model_moments = model_moments2(alpha_gmm, beta_gmm)\n",
    "R = 42\n",
    "N = len(hhincome)\n",
    "Err_mat = np.zeros((R, N))\n",
    "\n",
    "for j in range(0,R):\n",
    "    for i in range(0,N):\n",
    "        Err_mat[j,i] = data_moments(hhincome[i], weights_f=(1/N))[j] - model_moments[j]\n",
    "\n",
    "print(Err_mat)"
   ]
  },
  {
   "cell_type": "code",
   "execution_count": 1245,
   "metadata": {},
   "outputs": [],
   "source": [
    "VCV2 = (1 / hhincome.shape[0]) * (Err_mat @ Err_mat.T)\n",
    "W_2s = lin.inv(VCV2)"
   ]
  },
  {
   "cell_type": "markdown",
   "metadata": {},
   "source": [
    "Now that I have the the two-step matrix, I run again the minimization problem in part d) with this matrix."
   ]
  },
  {
   "cell_type": "code",
   "execution_count": 1247,
   "metadata": {},
   "outputs": [],
   "source": [
    "#The minimization problem \n",
    "gmm_args3 = (hhincome, W_2s)\n",
    "results_ga2 = opt.minimize(criterion2, params_init2, args=(gmm_args3), method='L-BFGS-B')\n",
    "alpha_gmm2, beta_gmm2 = results_ga2.x\n",
    "#results_ga2"
   ]
  },
  {
   "cell_type": "markdown",
   "metadata": {},
   "source": [
    "The estimations of alpha and beta did not change significantly."
   ]
  },
  {
   "cell_type": "code",
   "execution_count": 1248,
   "metadata": {},
   "outputs": [
    {
     "name": "stdout",
     "output_type": "stream",
     "text": [
      "With the matrix created with data moments, we have alpha = 1.4058448540932567 , and beta= 45619.33610600618\n",
      "With the two-step weigthing matrix, we have alpha = 1.4124160385683346 , and beta= 44207.28169934738\n"
     ]
    }
   ],
   "source": [
    "print('With the matrix created with data moments, we have alpha =', alpha_gmm, ', and beta=', beta_gmm)\n",
    "print('With the two-step weigthing matrix, we have alpha =', alpha_gmm2, ', and beta=', beta_gmm2)"
   ]
  },
  {
   "cell_type": "markdown",
   "metadata": {},
   "source": [
    "## 2. Estimating the Brock and Mirman (1972) model by GMM"
   ]
  },
  {
   "cell_type": "code",
   "execution_count": 1249,
   "metadata": {},
   "outputs": [],
   "source": [
    "#Read the MacroSeries.txt file\n",
    "url_macro = ('https://raw.githubusercontent.com/jesuspachecov/StructEst_W20/' +\n",
    "       'master/ProblemSets/PS3/data/MacroSeries.txt')\n",
    "response = requests.get(url_macro,allow_redirects=True)\n",
    "\n",
    "open('MacroSeries.txt', 'wb').write(response.content)\n",
    "macroseries = np.loadtxt(\"MacroSeries.txt\",\n",
    "  # dtype={'names': ('ct', 'kt', 'wt', 'rt'),\n",
    "   #       'formats': (np.float, np.float, np.float, np.float)},\n",
    "   delimiter=',', skiprows=0)\n",
    "#macroseries[1:10,]"
   ]
  },
  {
   "cell_type": "markdown",
   "metadata": {},
   "source": [
    "### Part a)"
   ]
  },
  {
   "cell_type": "markdown",
   "metadata": {},
   "source": [
    "Let's first create the 4 model moments as requested. Note that the data moments are just zeros. "
   ]
  },
  {
   "cell_type": "code",
   "execution_count": 1250,
   "metadata": {},
   "outputs": [],
   "source": [
    "def model_moments3(zt, kt, wt, ct, alpha, rho, mu, beta=1):\n",
    "    zt_1 = np.append(mu, zt[:-1])\n",
    "    zt_p1 = np.append(zt[+1:],zt[-1])\n",
    "    ct_p1 = np.append(ct[+1:],ct[-1])\n",
    "    kt_p1 = np.append(kt[+1:],kt[-1])\n",
    "    \n",
    "    m1 = np.mean(zt_1 - rho*zt - (1-rho)*mu)\n",
    "    m2 = np.mean((zt_p1 - rho*zt - (1-rho)*mu)*zt)\n",
    "    m3 = np.mean(beta*alpha*np.exp(zt_p1)*(kt_p1**(alpha-1))*(ct/ct_p1) - 1)\n",
    "    m4 = np.mean((beta*alpha*np.exp(zt_p1)*(kt_p1**(alpha-1))*(ct/ct_p1) - 1)*wt)\n",
    "    mod_moments3 = np.array([m1, m2, m3 ,m4])\n",
    "    return mod_moments3"
   ]
  },
  {
   "cell_type": "code",
   "execution_count": 1251,
   "metadata": {},
   "outputs": [],
   "source": [
    "def errors3(zt, kt, wt, ct, alpha, rho, mu, beta=1, simple=True):\n",
    "    moms_data = np.array([0,0,0,0]) #DATA MOMENTS ARE JUST ZEROS!\n",
    "    moms_model = np.array([model_moments3(zt, kt, wt, ct, alpha, rho, mu, beta=1)])\n",
    "    if simple:\n",
    "        err_vec3 = moms_model - moms_data\n",
    "    else:\n",
    "        err_vec3 = (moms_model - moms_data) / moms_data\n",
    "    #We need to use the simple version because the data moments are zero (denominator)\n",
    "    return err_vec3"
   ]
  },
  {
   "cell_type": "code",
   "execution_count": 1252,
   "metadata": {},
   "outputs": [],
   "source": [
    "def crit3(params, *args):\n",
    "    alpha, rho, mu = params\n",
    "    kt, wt, ct, W = args\n",
    "    \n",
    "    #eq4\n",
    "    zt = np.log(wt) - (np.log(1-alpha)+(alpha)*np.log(kt))\n",
    "    \n",
    "    err3 = errors3(zt, kt, wt, ct, alpha, rho, mu)\n",
    "    crit_val3 = err3 @ W @ err3.T\n",
    "    \n",
    "    return crit_val3"
   ]
  },
  {
   "cell_type": "markdown",
   "metadata": {},
   "source": [
    "For the initial guesses I will use the computations from the last problem set, where I assumed $\\alpha = .5$ and computed $\\rho$ and $\\mu$ from a regression. "
   ]
  },
  {
   "cell_type": "code",
   "execution_count": 1253,
   "metadata": {},
   "outputs": [
    {
     "name": "stdout",
     "output_type": "stream",
     "text": [
      "Alpha: 0.41753993930871885\n",
      "Rho: 1.0107936588382918\n",
      "Mu: 9.0235720141952\n",
      "Minimized criterion function:  [0.02627692]\n"
     ]
    }
   ],
   "source": [
    "#Initial guesses and args\n",
    "params_init3= np.array([0.5, 0.680047, 8.92559606]) \n",
    "\n",
    "ct = macroseries[:,0]\n",
    "kt = macroseries[:,1]\n",
    "wt = macroseries[:,2]\n",
    "#rt = macroseries[:,3]   #rt not needed\n",
    "W_I = np.eye(4)\n",
    "\n",
    "macro_args = (kt, wt, ct, W_I)\n",
    "\n",
    "#MINIMIZATION\n",
    "results_macro = opt.minimize(crit3, params_init3, args=(macro_args), method='L-BFGS-B')\n",
    "                       #tol=1e-14   #The minimization does not seem to converge when adjusting the tolerance\n",
    "alpha2_gmm, rho_gmm, mu_gmm = results_macro.x\n",
    "\n",
    "print (\"Alpha:\", alpha2_gmm)\n",
    "print (\"Rho:\", rho_gmm)\n",
    "print (\"Mu:\", mu_gmm)\n",
    "m = errors3(np.log(wt) - (np.log(1-alpha2_gmm)+(alpha2_gmm)*np.log(kt)), kt, wt, ct, alpha2_gmm, rho_gmm, mu_gmm, beta=1, simple=True)\n",
    "print (\"Minimized criterion function: \", (m @ m.T)[0])"
   ]
  }
 ],
 "metadata": {
  "kernelspec": {
   "display_name": "Python 3",
   "language": "python",
   "name": "python3"
  },
  "language_info": {
   "codemirror_mode": {
    "name": "ipython",
    "version": 3
   },
   "file_extension": ".py",
   "mimetype": "text/x-python",
   "name": "python",
   "nbconvert_exporter": "python",
   "pygments_lexer": "ipython3",
   "version": "3.7.4"
  }
 },
 "nbformat": 4,
 "nbformat_minor": 2
}
