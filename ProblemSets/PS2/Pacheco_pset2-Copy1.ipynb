{
 "cells": [
  {
   "cell_type": "markdown",
   "metadata": {},
   "source": [
    "# MACS 40300: Problem Set #2 \n",
    "### By: Jesús Pacheco Vera\n"
   ]
  },
  {
   "cell_type": "markdown",
   "metadata": {},
   "source": [
    "## 1. Health claim amounts and the GB family of distributions"
   ]
  },
  {
   "cell_type": "code",
   "execution_count": 615,
   "metadata": {},
   "outputs": [
    {
     "name": "stdout",
     "output_type": "stream",
     "text": [
      "Once deleted, variables cannot be recovered. Proceed (y/[n])? y\n"
     ]
    }
   ],
   "source": [
    "%reset\n",
    "import numpy as np\n",
    "import scipy.stats as sts\n",
    "import requests\n",
    "import matplotlib.pyplot as plt"
   ]
  },
  {
   "cell_type": "code",
   "execution_count": 616,
   "metadata": {},
   "outputs": [
    {
     "data": {
      "text/plain": [
       "array([361.65, 123.04, 541.77, ...,  97.43, 186.88, 119.19])"
      ]
     },
     "execution_count": 616,
     "metadata": {},
     "output_type": "execute_result"
    }
   ],
   "source": [
    "#Import the txt file\n",
    "url_claims = ('https://raw.githubusercontent.com/jesuspachecov/StructEst_W20/' +\n",
    "       'master/ProblemSets/PS2/clms.txt')\n",
    "response1 = requests.get(url_claims,allow_redirects=True)\n",
    "\n",
    "open('clms.txt', 'wb').write(response1.content)\n",
    "claims = np.loadtxt(\"clms.txt\")\n",
    "claims"
   ]
  },
  {
   "cell_type": "markdown",
   "metadata": {},
   "source": [
    "#### Part a)"
   ]
  },
  {
   "cell_type": "code",
   "execution_count": 617,
   "metadata": {},
   "outputs": [
    {
     "name": "stdout",
     "output_type": "stream",
     "text": [
      "Mean: 720.2779753272437\n",
      "Median: 172.21\n",
      "Maximum: 227967.25\n",
      "Minimum: 0.01\n",
      "Standard deviation: 3972.663756393663\n"
     ]
    }
   ],
   "source": [
    "print('Mean:' , np.mean(claims))\n",
    "print('Median:' , np.median(claims))\n",
    "print('Maximum:' , np.max(claims))\n",
    "print('Minimum:' , np.min(claims))\n",
    "print('Standard deviation:' , np.std(claims))"
   ]
  },
  {
   "cell_type": "code",
   "execution_count": 618,
   "metadata": {},
   "outputs": [
    {
     "data": {
      "text/plain": [
       "Text(0.5, 1.0, 'Histogram of monthly claims')"
      ]
     },
     "execution_count": 618,
     "metadata": {},
     "output_type": "execute_result"
    },
    {
     "data": {
      "image/png": "[encoded data removed]",
      "text/plain": [
       "<Figure size 432x288 with 1 Axes>"
      ]
     },
     "metadata": {
      "needs_background": "light"
     },
     "output_type": "display_data"
    }
   ],
   "source": [
    "#Compute weights so we can have frequencies\n",
    "weights = (1 / claims.shape[0]) * np.ones_like(claims)\n",
    "plt.hist(claims, 1000, weights=weights)\n",
    "plt.title('Histogram of monthly claims')"
   ]
  },
  {
   "cell_type": "code",
   "execution_count": 619,
   "metadata": {},
   "outputs": [
    {
     "data": {
      "text/plain": [
       "Text(0.5, 1.0, 'Histogram of monthly claims (less or equal to 800 usd)')"
      ]
     },
     "execution_count": 619,
     "metadata": {},
     "output_type": "execute_result"
    },
    {
     "data": {
      "image/png": "[encoded data removed]",
      "text/plain": [
       "<Figure size 432x288 with 1 Axes>"
      ]
     },
     "metadata": {
      "needs_background": "light"
     },
     "output_type": "display_data"
    }
   ],
   "source": [
    "plt.hist(claims[claims<=800], 100, weights=weights[claims<=800])\n",
    "plt.title('Histogram of monthly claims (less or equal to 800 usd)')"
   ]
  },
  {
   "cell_type": "markdown",
   "metadata": {},
   "source": [
    "Since we have some huge outliers in the data, the first histogram is not very informative of the distribution. The second one is much more informative of the part of the distribution that displays the biggest part of the data. "
   ]
  },
  {
   "cell_type": "markdown",
   "metadata": {},
   "source": [
    "#### Part b) Fitting a gamma distribution"
   ]
  },
  {
   "cell_type": "code",
   "execution_count": 628,
   "metadata": {},
   "outputs": [],
   "source": [
    "import math\n",
    "def gamma_pdf(xvals, alpha, beta):\n",
    "    pdf_vals = (1 / ((beta ** alpha) *  math.gamma(alpha))) * (xvals ** (alpha - 1)) * (np.exp(-(xvals/beta)))\n",
    "    pdf_vals[pdf_vals < 1e-10] = 1e-10\n",
    "    return pdf_vals"
   ]
  },
  {
   "cell_type": "code",
   "execution_count": 629,
   "metadata": {},
   "outputs": [],
   "source": [
    "#The function of the log likelihood\n",
    "def log_lik_gamma(xvals, alpha, beta):\n",
    "    pdf_vals = gamma_pdf(xvals, alpha, beta)\n",
    "    ln_pdf_vals = np.log(pdf_vals)\n",
    "    log_lik_vals = ln_pdf_vals.sum()\n",
    "    return log_lik_vals"
   ]
  },
  {
   "cell_type": "code",
   "execution_count": 630,
   "metadata": {},
   "outputs": [],
   "source": [
    "#Critieron function\n",
    "def crit(params, *args):\n",
    "    alpha, beta = params\n",
    "    xvals = args\n",
    "    log_lik_val = log_lik_gamma(xvals, alpha, beta)\n",
    "    neg_log_lik_val = -log_lik_val\n",
    "    \n",
    "    return neg_log_lik_val"
   ]
  },
  {
   "cell_type": "code",
   "execution_count": 631,
   "metadata": {},
   "outputs": [
    {
     "name": "stdout",
     "output_type": "stream",
     "text": [
      "alpha_MLE = 0.557068464615839 , beta_MLE = 998.402556156263\n",
      "Log-likelihood = -77001.36877603488\n"
     ]
    }
   ],
   "source": [
    "#Minimization function\n",
    "import scipy.optimize as opt\n",
    "\n",
    "beta_init = np.std(claims)**2 / np.mean(claims)\n",
    "#beta_init = 80\n",
    "alpha_init = np.mean(claims)/beta_init\n",
    "#alpha_init = .7\n",
    "params_init=np.array([alpha_init, beta_init])\n",
    "ga_args = (claims)\n",
    "\n",
    "results = opt.minimize(crit, params_init, args=(ga_args), method='TNC', bounds=((1e-10, None), (1e-10, None)), tol=1e-12)\n",
    "\n",
    "alpha_MLE, beta_MLE = results.x\n",
    "print('alpha_MLE =', alpha_MLE, ', beta_MLE =', beta_MLE)\n",
    "print('Log-likelihood =',log_lik_gamma(claims, alpha_MLE, beta_MLE))\n",
    "#print('Log-likelihood =',log_lik_gamma(claims, .7, 80))"
   ]
  },
  {
   "cell_type": "code",
   "execution_count": 632,
   "metadata": {},
   "outputs": [
    {
     "name": "stderr",
     "output_type": "stream",
     "text": [
      "/opt/anaconda3/lib/python3.7/site-packages/ipykernel_launcher.py:3: RuntimeWarning: divide by zero encountered in power\n",
      "  This is separate from the ipykernel package so we can avoid doing imports until\n"
     ]
    },
    {
     "data": {
      "text/plain": [
       "<matplotlib.legend.Legend at 0x1a2bbf3390>"
      ]
     },
     "execution_count": 632,
     "metadata": {},
     "output_type": "execute_result"
    },
    {
     "data": {
      "image/png": "[encoded data removed]",
      "text/plain": [
       "<Figure size 432x288 with 1 Axes>"
      ]
     },
     "metadata": {
      "needs_background": "light"
     },
     "output_type": "display_data"
    }
   ],
   "source": [
    "#The two plots together: \n",
    "dist_pts = np.linspace(0, 800, 500)\n",
    "plt.hist(claims[claims<=800], 100, weights=weights[claims<=800])\n",
    "plt.title('Histogram of monthly claims (less or equal to 800 usd)')\n",
    "plt.plot(dist_pts, gamma_pdf(dist_pts, alpha_MLE, beta_MLE),\n",
    "         linewidth=2, color='r', label='Gamma distribution using MLE')\n",
    "plt.legend(loc='upper right')"
   ]
  },
  {
   "cell_type": "markdown",
   "metadata": {},
   "source": [
    "My MLE estimates do not seem like good fit of the data. I tried to debug something but was unable to find an error. I manually tried to find better estimates for alpha and beta, .7 and 8 respectively seemed to better fit the histogram but the log_likelihood is less.  \n",
    "I tried to do a 3D graph to see if it was finding local maxima, but I ran into coding errors, I tried to initialize on `params_init = .7 and 8` but the results is basically the same, so the optimization is probably not finding local maxima. "
   ]
  },
  {
   "cell_type": "code",
   "execution_count": 635,
   "metadata": {},
   "outputs": [
    {
     "name": "stderr",
     "output_type": "stream",
     "text": [
      "/opt/anaconda3/lib/python3.7/site-packages/ipykernel_launcher.py:3: RuntimeWarning: divide by zero encountered in power\n",
      "  This is separate from the ipykernel package so we can avoid doing imports until\n",
      "No handles with labels found to put in legend.\n"
     ]
    },
    {
     "data": {
      "text/plain": [
       "<matplotlib.legend.Legend at 0x1a29f65e50>"
      ]
     },
     "execution_count": 635,
     "metadata": {},
     "output_type": "execute_result"
    },
    {
     "data": {
      "image/png": "[encoded data removed]",
      "text/plain": [
       "<Figure size 432x288 with 1 Axes>"
      ]
     },
     "metadata": {
      "needs_background": "light"
     },
     "output_type": "display_data"
    }
   ],
   "source": [
    "#.7 and 80 seem better fit, for example: \n",
    "plt.hist(claims[claims<=800], 100, weights=weights[claims<=800])\n",
    "plt.title('Histogram of monthly claims (less or equal to 800 usd)')\n",
    "plt.plot(dist_pts, gamma_pdf(dist_pts, .7, 80),\n",
    "         linewidth=2, color='r', label='')\n",
    "plt.legend(loc='upper right')"
   ]
  },
  {
   "cell_type": "markdown",
   "metadata": {},
   "source": [
    "#### Part c) Fitting a Generalized Gamma distribution"
   ]
  },
  {
   "cell_type": "code",
   "execution_count": 636,
   "metadata": {},
   "outputs": [],
   "source": [
    "#Generalized gama function\n",
    "def ggamma_pdf(xvals, alpha, beta, m):\n",
    "    pdf_vals_gg = (m / ((beta ** alpha) * math.gamma(alpha/m))) * (xvals ** (alpha - 1)) * (np.exp(-(xvals/beta)**m))\n",
    "    pdf_vals_gg[pdf_vals_gg < 1e-10] = 1e-10\n",
    "    return pdf_vals_gg"
   ]
  },
  {
   "cell_type": "code",
   "execution_count": 637,
   "metadata": {},
   "outputs": [],
   "source": [
    "#The function of the log likelihood\n",
    "def log_lik_ggamma(xvals, alpha, beta, m):\n",
    "    pdf_vals_gg = ggamma_pdf(xvals, alpha, beta,m)\n",
    "    ln_pdf_vals_gg = np.log(pdf_vals_gg)\n",
    "    log_lik_vals_gg = ln_pdf_vals_gg.sum()\n",
    "    return log_lik_vals_gg"
   ]
  },
  {
   "cell_type": "code",
   "execution_count": 638,
   "metadata": {},
   "outputs": [],
   "source": [
    "#Critieron function\n",
    "def crit_gg(params, *args):\n",
    "    alpha, beta, m = params\n",
    "    xvals = args\n",
    "    log_lik_val_gg = log_lik_ggamma(xvals, alpha, beta, m)\n",
    "    neg_log_lik_val_gg = -log_lik_val_gg\n",
    "    \n",
    "    return neg_log_lik_val_gg"
   ]
  },
  {
   "cell_type": "code",
   "execution_count": 643,
   "metadata": {},
   "outputs": [
    {
     "name": "stdout",
     "output_type": "stream",
     "text": [
      "alpha GG: 0.9487399866616659\n",
      "beta GG: 58.58905942550018\n",
      "m GG: 0.44990898275105207\n",
      "Log-likelihood GG:  -75525.71126798438\n"
     ]
    }
   ],
   "source": [
    "#Minimization function\n",
    "params_init_gg=np.array([alpha_MLE, beta_MLE, 1])\n",
    "gg_args = (claims)\n",
    "\n",
    "results_gg = opt.minimize(\n",
    "    crit_gg, params_init_gg, args=(gg_args), method='TNC', bounds=((1e-10, None), (1e-10, None),(None, None)))\n",
    "\n",
    "alpha_gg, beta_gg, m_gg = results_gg.x\n",
    "print('alpha GG:', alpha_gg)\n",
    "print('beta GG:', beta_gg) \n",
    "print('m GG:', m_gg)    \n",
    "print('Log-likelihood GG: ', log_lik_ggamma(claims, alpha_gg, beta_gg, m_gg))"
   ]
  },
  {
   "cell_type": "code",
   "execution_count": 644,
   "metadata": {},
   "outputs": [
    {
     "name": "stderr",
     "output_type": "stream",
     "text": [
      "/opt/anaconda3/lib/python3.7/site-packages/ipykernel_launcher.py:3: RuntimeWarning: divide by zero encountered in power\n",
      "  This is separate from the ipykernel package so we can avoid doing imports until\n"
     ]
    },
    {
     "data": {
      "text/plain": [
       "<matplotlib.legend.Legend at 0x1a2b99e650>"
      ]
     },
     "execution_count": 644,
     "metadata": {},
     "output_type": "execute_result"
    },
    {
     "data": {
      "image/png": "[encoded data removed]",
      "text/plain": [
       "<Figure size 432x288 with 1 Axes>"
      ]
     },
     "metadata": {
      "needs_background": "light"
     },
     "output_type": "display_data"
    }
   ],
   "source": [
    "#The two plots together: \n",
    "plt.hist(claims[claims<=800], 100, weights=weights[claims<=800])\n",
    "plt.title('Histogram of monthly claims (less or equal to 800 usd)')\n",
    "plt.plot(dist_pts, ggamma_pdf(dist_pts, alpha_gg, beta_gg, m_gg),\n",
    "         linewidth=2, color='r', label='Generalizaed gamma distribution using MLE')\n",
    "plt.legend(loc='upper right')"
   ]
  },
  {
   "cell_type": "markdown",
   "metadata": {},
   "source": [
    "As in part b), the estimation is not fitting the data very well. Actually, both estimation (GA and GG) are quite similiar to each other, which I think makes sense. Here's the graph:"
   ]
  },
  {
   "cell_type": "code",
   "execution_count": 647,
   "metadata": {},
   "outputs": [
    {
     "name": "stderr",
     "output_type": "stream",
     "text": [
      "/opt/anaconda3/lib/python3.7/site-packages/ipykernel_launcher.py:3: RuntimeWarning: divide by zero encountered in power\n",
      "  This is separate from the ipykernel package so we can avoid doing imports until\n"
     ]
    },
    {
     "data": {
      "text/plain": [
       "[<matplotlib.lines.Line2D at 0x1a2765ba90>]"
      ]
     },
     "execution_count": 647,
     "metadata": {},
     "output_type": "execute_result"
    },
    {
     "data": {
      "image/png": "[encoded data removed]",
      "text/plain": [
       "<Figure size 432x288 with 1 Axes>"
      ]
     },
     "metadata": {
      "needs_background": "light"
     },
     "output_type": "display_data"
    }
   ],
   "source": [
    "#The seem to be almost the same distribution\n",
    "plt.plot(dist_pts, ggamma_pdf(dist_pts, alpha_gg, beta_gg, m_gg),\n",
    "         linewidth=2, color='r', label='Generalizaed gamma distribution using MLE')\n",
    "plt.legend(loc='upper right')\n",
    "plt.plot(dist_pts, gamma_pdf(dist_pts, alpha_MLE, beta_MLE),\n",
    "         linewidth=2, color='b', label='Gamma distribution using MLE')"
   ]
  },
  {
   "cell_type": "markdown",
   "metadata": {},
   "source": [
    "#### Part d) Fitting a Generalized Beta 2 distribution"
   ]
  },
  {
   "cell_type": "code",
   "execution_count": 662,
   "metadata": {},
   "outputs": [],
   "source": [
    "#Generalized beta 2 function\n",
    "import scipy.special as spc\n",
    "\n",
    "def gb2_pdf(xvals, a, b, p, q):\n",
    "    pdf_vals_gb2 = (a*(xvals**(a*p-1))) / ((b**(a*p)) * (spc.beta(p,q)) * ((1+(xvals/b)**a))**(p+q))\n",
    "    #pdf_vals_gb2[pdf_vals_gb2 < 1e-10] = 1e-10\n",
    "    return pdf_vals_gb2"
   ]
  },
  {
   "cell_type": "code",
   "execution_count": 663,
   "metadata": {},
   "outputs": [
    {
     "data": {
      "text/plain": [
       "array([2.26377876e-07, 5.49386481e-05, 1.32227643e-08, ...,\n",
       "       1.32478970e-04, 8.87181794e-06, 6.22741424e-05])"
      ]
     },
     "execution_count": 663,
     "metadata": {},
     "output_type": "execute_result"
    }
   ],
   "source": [
    "#Testing my pdf function:\n",
    "q_init = 10000\n",
    "gb2_pdf(claims, m_gg, q_init**(1/m_gg), alpha_gg/m_gg, q_init)"
   ]
  },
  {
   "cell_type": "code",
   "execution_count": 664,
   "metadata": {},
   "outputs": [],
   "source": [
    "#The function of the log likelihood\n",
    "def log_lik_gb2(xvals, a, b, p, q):\n",
    "    pdf_vals_gb2 = gb2_pdf(xvals, a, b, p, q)\n",
    "    ln_pdf_vals_gb2 = np.log(pdf_vals_gb2)\n",
    "    log_lik_vals_gb2 = ln_pdf_vals_gb2.sum()\n",
    "    return log_lik_vals_gb2"
   ]
  },
  {
   "cell_type": "code",
   "execution_count": 665,
   "metadata": {},
   "outputs": [],
   "source": [
    "#Critieron function\n",
    "def crit_gb2(params, *args):\n",
    "    a, b, p, q = params\n",
    "    xvals = args\n",
    "    log_lik_val_gb2 = log_lik_gb2(xvals, a, b, p, q)\n",
    "    neg_log_lik_val_gb2 = -log_lik_val_gb2\n",
    "    \n",
    "    return neg_log_lik_val_gb2"
   ]
  },
  {
   "cell_type": "code",
   "execution_count": 666,
   "metadata": {},
   "outputs": [
    {
     "name": "stdout",
     "output_type": "stream",
     "text": [
      "a GB2: 0.6193544456609421\n",
      "b GB2: 777476237.3235831\n",
      "p GB2: 1.2395218654453952\n",
      "q GB2: 10001.216909336896\n",
      "Log-likelihood GB2:  -76153.40531456552\n"
     ]
    }
   ],
   "source": [
    "#Minimization function\n",
    "params_init_gb2=np.array([m_gg, q_init**(1/m_gg), alpha_gg/m_gg, q_init])\n",
    "gb2_args = (claims)\n",
    "\n",
    "results_gb2 = opt.minimize(\n",
    "    crit_gb2, params_init_gb2, args=(gb2_args), method='TNC', bounds=((1e-10, None), (1e-10, None),(1e-10, None), (None, None)))\n",
    "\n",
    "a_gb2, b_gb2, p_gb2, q_gb2 =results_gb2.x \n",
    "print('a GB2:', a_gb2)\n",
    "print('b GB2:', b_gb2)\n",
    "print('p GB2:', p_gb2)\n",
    "print('q GB2:', q_gb2)\n",
    "print('Log-likelihood GB2: ', log_lik_gb2(claims, a_gb2, b_gb2, p_gb2, q_gb2))"
   ]
  },
  {
   "cell_type": "code",
   "execution_count": 668,
   "metadata": {},
   "outputs": [
    {
     "name": "stderr",
     "output_type": "stream",
     "text": [
      "/opt/anaconda3/lib/python3.7/site-packages/ipykernel_launcher.py:5: RuntimeWarning: divide by zero encountered in power\n",
      "  \"\"\"\n"
     ]
    },
    {
     "data": {
      "text/plain": [
       "[<matplotlib.lines.Line2D at 0x1a2521e4d0>]"
      ]
     },
     "execution_count": 668,
     "metadata": {},
     "output_type": "execute_result"
    },
    {
     "data": {
      "image/png": "[encoded data removed]",
      "text/plain": [
       "<Figure size 432x288 with 1 Axes>"
      ]
     },
     "metadata": {
      "needs_background": "light"
     },
     "output_type": "display_data"
    }
   ],
   "source": [
    "#The seem to be almost the same distribution\n",
    "plt.hist(claims[claims<=800], 100, weights=weights[claims<=800])\n",
    "plt.title('Histogram of monthly claims (less or equal to 800 usd)')\n",
    "plt.plot(dist_pts, gb2_pdf(dist_pts, a_gb2, b_gb2, p_gb2, q_gb2),\n",
    "         linewidth=2, color='r', label='Generalized beta 2 distribution using MLE')"
   ]
  },
  {
   "cell_type": "markdown",
   "metadata": {},
   "source": [
    "Again, very similar distribution."
   ]
  },
  {
   "cell_type": "markdown",
   "metadata": {},
   "source": [
    "#### Part e) Likelihood ratio"
   ]
  },
  {
   "cell_type": "code",
   "execution_count": 670,
   "metadata": {},
   "outputs": [
    {
     "name": "stdout",
     "output_type": "stream",
     "text": [
      "Gamma versus GB2:\n",
      "Likelihood ratio value=  1695.9269229387282\n",
      "p-value (Chi squared with 4 degrees of freedom) = 0.0\n",
      "\n",
      "Generalized gamma versus GB2:\n",
      "Likelihood ratio value=  -1255.3880931622698\n",
      "p-value (Chi squared with 4 degrees of freedom) = 1.0\n"
     ]
    }
   ],
   "source": [
    "loglik_h0_1 = log_lik_gamma(claims, alpha_MLE, beta_MLE)\n",
    "loglik_h0_2 = log_lik_ggamma(claims, alpha_gg, beta_gg, m_gg)\n",
    "loglik_h1   = log_lik_gb2(claims, a_gb2, b_gb2, p_gb2, q_gb2)\n",
    "LR_1 = 2*(loglik_h1 - loglik_h0_1)\n",
    "pval_1 = 1.0 - sts.chi2.cdf(LR_1, 4)\n",
    "LR_2 = 2*(loglik_h1 - loglik_h0_2)\n",
    "pval_2 = 1.0 - sts.chi2.cdf(LR_2, 4)\n",
    "\n",
    "print('Gamma versus GB2:')\n",
    "print('Likelihood ratio value= ', LR_1)\n",
    "print('p-value (Chi squared with 4 degrees of freedom) =', pval_1)\n",
    "print('')\n",
    "print('Generalized gamma versus GB2:')\n",
    "print('Likelihood ratio value= ', LR_2)\n",
    "print('p-value (Chi squared with 4 degrees of freedom) =', pval_2)"
   ]
  },
  {
   "cell_type": "markdown",
   "metadata": {},
   "source": [
    "#### Part f) Probability of claiming more than $1,000"
   ]
  },
  {
   "cell_type": "code",
   "execution_count": 671,
   "metadata": {},
   "outputs": [
    {
     "name": "stdout",
     "output_type": "stream",
     "text": [
      "Using the GB2 estimation: 0.15319086224849632\n",
      "Using the GA estimation: 0.08608228510874971\n"
     ]
    }
   ],
   "source": [
    "#Using the GB2 estimation\n",
    "import scipy.integrate as integrate\n",
    "#Since I didn't find an existing function for CDF of a GB2 distribution, I integrated over the pdf from 1000 to infinity\n",
    "quad= integrate.quad(lambda x: gb2_pdf(x, a_gb2, b_gb2, p_gb2, q_gb2), 1000, np.inf)\n",
    "\n",
    "#this gives two values, the first one is the value of the integral\n",
    "print('Using the GB2 estimation:', quad[0])\n",
    "\n",
    "#Probability from GA estimation\n",
    "print('Using the GA estimation:', 1 - sts.gamma.cdf(1000,alpha_MLE, beta_MLE))\n"
   ]
  },
  {
   "cell_type": "markdown",
   "metadata": {},
   "source": [
    "## 2. MLE estimation of simple macroeconomic model"
   ]
  },
  {
   "cell_type": "code",
   "execution_count": 529,
   "metadata": {},
   "outputs": [
    {
     "data": {
      "text/plain": [
       "array([[1.16948678e+07, 7.59507176e+06, 1.16107897e+07, 1.10700906e+00],\n",
       "       [9.29239424e+06, 8.32373510e+06, 9.22558826e+06, 8.02596228e-01],\n",
       "       [7.91316454e+06, 6.61379241e+06, 7.85627428e+06, 8.60176106e-01],\n",
       "       [8.14099418e+06, 5.63213594e+06, 8.08246598e+06, 1.03918305e+00],\n",
       "       [8.27441356e+06, 5.79429199e+06, 8.21492617e+06, 1.02665514e+00],\n",
       "       [8.62591578e+06, 5.88925224e+06, 8.56390132e+06, 1.05301073e+00],\n",
       "       [9.01282040e+06, 6.13943133e+06, 8.94802436e+06, 1.05540782e+00],\n",
       "       [8.78831989e+06, 6.41480781e+06, 8.72513786e+06, 9.84940386e-01],\n",
       "       [9.72097169e+06, 6.25502124e+06, 9.65108453e+06, 1.11729699e+00]])"
      ]
     },
     "execution_count": 529,
     "metadata": {},
     "output_type": "execute_result"
    }
   ],
   "source": [
    "#Read the MacroSeries.txt file\n",
    "url_macro = ('https://raw.githubusercontent.com/jesuspachecov/StructEst_W20/' +\n",
    "       'master/ProblemSets/PS2/MacroSeries.txt')\n",
    "response = requests.get(url_macro,allow_redirects=True)\n",
    "\n",
    "open('MacroSeries.txt', 'wb').write(response.content)\n",
    "macroseries = np.loadtxt(\"MacroSeries.txt\",\n",
    "  # dtype={'names': ('ct', 'kt', 'wt', 'rt'),\n",
    "   #       'formats': (np.float, np.float, np.float, np.float)},\n",
    "   delimiter=',', skiprows=0)\n",
    "macroseries[1:10,]"
   ]
  },
  {
   "cell_type": "markdown",
   "metadata": {},
   "source": [
    "#### Part a) First estimation"
   ]
  },
  {
   "cell_type": "code",
   "execution_count": 456,
   "metadata": {},
   "outputs": [],
   "source": [
    "def eq3 (wt, kt, alpha): \n",
    "    zt = np.log(wt) - (np.log(1-alpha)+(alpha)*np.log(kt))\n",
    "    return zt"
   ]
  },
  {
   "cell_type": "code",
   "execution_count": 457,
   "metadata": {},
   "outputs": [],
   "source": [
    "def eq5 (zt, rho, mu):\n",
    "    z_mean=np.zeros(shape=(100,1))\n",
    "    z_mean[0] = zt[0]\n",
    "    for i in range(1, 100):\n",
    "        z_mean[i] = rho*zt[i-1] + (1-rho)*mu \n",
    "    return z_mean"
   ]
  },
  {
   "cell_type": "code",
   "execution_count": 458,
   "metadata": {},
   "outputs": [],
   "source": [
    "def log_lik_norm(zt, z_mean, sigma): \n",
    "    pdf_vals = sts.norm.pdf(zt, loc=z_mean, scale=sigma)\n",
    "    log_vals = np.log(pdf_vals)\n",
    "    log_lik_vals1 = log_vals.sum()\n",
    "    return log_lik_vals1"
   ]
  },
  {
   "cell_type": "code",
   "execution_count": 459,
   "metadata": {},
   "outputs": [],
   "source": [
    "def crit1(params, *args):\n",
    "    alpha, rho, mu, sigma = params\n",
    "    wt, kt = args\n",
    "\n",
    "    zt = eq3(wt,kt, alpha)\n",
    "    z_mean = eq5(zt, mu, rho)\n",
    "    \n",
    "    log_lik_vals1 = log_lik_norm(zt, z_mean, sigma)\n",
    "    neg_log_lik_vals1 = -log_lik_vals1\n",
    "    return neg_log_lik_vals1"
   ]
  },
  {
   "cell_type": "code",
   "execution_count": 460,
   "metadata": {},
   "outputs": [
    {
     "name": "stdout",
     "output_type": "stream",
     "text": [
      "Alpha=  0.5\n",
      "Rho=  1.0\n",
      "Mu=  0.1\n",
      "Sigma=  1678198.2510041362\n",
      "Log-likelihood=  -152521.69839436648\n",
      "VCV=  [[ 1.000e+00  0.000e+00  0.000e+00  0.000e+00]\n",
      " [ 0.000e+00  1.000e+00  0.000e+00  0.000e+00]\n",
      " [ 0.000e+00  0.000e+00  1.000e+00  0.000e+00]\n",
      " [ 0.000e+00  0.000e+00  0.000e+00 -3.072e+04]]\n"
     ]
    }
   ],
   "source": [
    "#The minimization problem\n",
    "kt = macroseries[:,1]\n",
    "wt = macroseries[:,2]\n",
    "mu_init = .1              #initialize mu at\n",
    "alpha_init = .5           #initialize alpha at .5 \n",
    "rho_init = 1              #initialize rho at 1\n",
    "sigma_init = np.std(kt)   #initialize sigma at the stdeviation of kt\n",
    "\n",
    "\n",
    "params_init1 = np.array([alpha_init, rho_init, mu_init, sigma_init])\n",
    "mle_args1 = (wt, kt)\n",
    "\n",
    "results_macro1 = opt.minimize(crit1, params_init1, args=(mle_args1))\n",
    "alpha_est1, rho_est1, mu_est1, sigma_est1 = results_macro1.x\n",
    "\n",
    "print('Alpha= ', alpha_est1)\n",
    "print('Rho= ', rho_est1) \n",
    "print('Mu= ', mu_est1)\n",
    "print('Sigma= ', sigma_est1)\n",
    "print('Log-likelihood= ',\n",
    "      log_lik_norm(eq3 (wt, kt, alpha_est1), eq5 (eq3(wt,kt,alpha_est1), rho_est1, mu_est1), sigma_est1))\n",
    "print('VCV= ', results_macro1.hess_inv)"
   ]
  },
  {
   "cell_type": "markdown",
   "metadata": {},
   "source": [
    "#### Part b) Second estimation"
   ]
  },
  {
   "cell_type": "code",
   "execution_count": 465,
   "metadata": {},
   "outputs": [],
   "source": [
    "def eq4(rt, kt, alpha): \n",
    "    zt = np.log(rt) - (np.log(alpha)+(alpha-1)*np.log(kt))\n",
    "    return zt"
   ]
  },
  {
   "cell_type": "code",
   "execution_count": 466,
   "metadata": {},
   "outputs": [],
   "source": [
    "def crit2(params, *args):\n",
    "    alpha, rho, mu, sigma = params\n",
    "    rt, kt = args\n",
    "\n",
    "    zt = eq4(rt,kt, alpha)\n",
    "    z_mean = eq5(zt, mu, rho)\n",
    "    \n",
    "    log_lik_vals2 = log_lik_norm(zt, z_mean, sigma)\n",
    "    neg_log_lik_vals2 = -log_lik_vals2\n",
    "    return neg_log_lik_vals2"
   ]
  },
  {
   "cell_type": "code",
   "execution_count": 467,
   "metadata": {},
   "outputs": [
    {
     "name": "stdout",
     "output_type": "stream",
     "text": [
      "Alpha=  0.5\n",
      "Rho=  1.0\n",
      "Mu=  0.1\n",
      "Sigma=  1677567.726722749\n",
      "Log-likelihood=  -152517.94053822872\n",
      "VCV=  [[ 1.0000000e+00  0.0000000e+00  0.0000000e+00  0.0000000e+00]\n",
      " [ 0.0000000e+00  1.0000000e+00  0.0000000e+00  0.0000000e+00]\n",
      " [ 0.0000000e+00  0.0000000e+00  1.0000000e+00  0.0000000e+00]\n",
      " [ 0.0000000e+00  0.0000000e+00  0.0000000e+00 -3.5338688e+05]]\n"
     ]
    }
   ],
   "source": [
    "#The minimization problem\n",
    "kt = macroseries[:,1]\n",
    "rt = macroseries[:,3]\n",
    "mu_init = .1              #initialize mu at\n",
    "alpha_init = .5           #initialize alpha at .5 \n",
    "rho_init = 1              #initialize rho at 1\n",
    "sigma_init = np.std(kt)   #initialize sigma at the stdeviation of kt\n",
    "\n",
    "\n",
    "params_init1 = np.array([alpha_init, rho_init, mu_init, sigma_init])\n",
    "mle_args2 = (rt, kt)\n",
    "\n",
    "results_macro2 = opt.minimize(crit2, params_init1, args=(mle_args2))\n",
    "alpha_est2, rho_est2, mu_est2, sigma_est2 = results_macro2.x\n",
    "print('Alpha= ', alpha_est2)\n",
    "print('Rho= ', rho_est2) \n",
    "print('Mu= ', mu_est2)\n",
    "print('Sigma= ', sigma_est2)\n",
    "print('Log-likelihood= ',\n",
    "      log_lik_norm(eq4 (rt, kt, alpha_est2), eq5 (eq4(rt,kt,alpha_est2), rho_est2, mu_est2), sigma_est2))\n",
    "print('VCV= ', results_macro2.hess_inv)"
   ]
  },
  {
   "cell_type": "markdown",
   "metadata": {},
   "source": [
    "#### Part c) Probability of interest rate greater than 1"
   ]
  },
  {
   "cell_type": "code",
   "execution_count": 470,
   "metadata": {},
   "outputs": [],
   "source": [
    "#Define z_star from equation 4\n",
    "z_star = np.log(1/(alpha_est1*7500000**(alpha_est1-1)))\n",
    "\n",
    "#Define z_mean from equation 5\n",
    "z_mean_star = rho_est1 * 10 + (1-rho_est1) * mu_est1"
   ]
  },
  {
   "cell_type": "markdown",
   "metadata": {},
   "source": [
    "The probability of the interest rate being greater than 1. \n",
    "In other words, the probability of seeing a zt greater than z_star is: \n",
    "$$ Pr(z_t>=z^*)$$"
   ]
  },
  {
   "cell_type": "code",
   "execution_count": 487,
   "metadata": {},
   "outputs": [
    {
     "data": {
      "text/plain": [
       "0.5000003308229171"
      ]
     },
     "execution_count": 487,
     "metadata": {},
     "output_type": "execute_result"
    }
   ],
   "source": [
    "1 - sts.norm.cdf(z_star, loc=z_mean_star, scale=sigma_est1)"
   ]
  },
  {
   "cell_type": "code",
   "execution_count": null,
   "metadata": {},
   "outputs": [],
   "source": []
  }
 ],
 "metadata": {
  "kernelspec": {
   "display_name": "Python 3",
   "language": "python",
   "name": "python3"
  },
  "language_info": {
   "codemirror_mode": {
    "name": "ipython",
    "version": 3
   },
   "file_extension": ".py",
   "mimetype": "text/x-python",
   "name": "python",
   "nbconvert_exporter": "python",
   "pygments_lexer": "ipython3",
   "version": "3.7.4"
  }
 },
 "nbformat": 4,
 "nbformat_minor": 2
}
